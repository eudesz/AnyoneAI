{
  "cells": [
    {
      "cell_type": "markdown",
      "metadata": {
        "id": "view-in-github",
        "colab_type": "text"
      },
      "source": [
        "<a href=\"https://colab.research.google.com/github/eudesz/AnyoneAI_Group_2/blob/EudesBenitez/Practice_Intro_to_Probability_and_Statistics_EudesBenitez.ipynb\" target=\"_parent\"><img src=\"https://colab.research.google.com/assets/colab-badge.svg\" alt=\"Open In Colab\"/></a>"
      ]
    },
    {
      "cell_type": "markdown",
      "metadata": {
        "_cell_guid": "891db468-cd01-4c43-b31b-2c9b89ae4074",
        "_uuid": "734a3a9a6749c369857af7aedf9c76a52293e5c0",
        "id": "VNSCx8LChWtH"
      },
      "source": [
        "# Intro to Probability & Statistics\n",
        "\n",
        "#### TODO:\n",
        "1. Descriptive Statistics:\n",
        "    * Calculate statistics such as Mode, Mean, Median and Standard Deviation of weight and age. Do they respond to any known distribution?\n",
        "    * Carry out an analysis of outliers and missing values.\n",
        "    * Explain how the metrics vary when we breakdown the dataset by gender. Do they respond to any known distribution? Qualitatively and graphically compare both distributions.\n",
        "2. Calculate the marginal and joint probability, and the correlation between two other variables, for example alcohol consumption and smoking.\n",
        "    * Visually represent the joint probability between the possible values of the chosen variables.\n",
        "3. Answer the following questions: What would happen to smoking levels if smoking is banned in bars? What would happen to the number of alcohol consumers if the number of smokers who drink alcohol decreases?"
      ]
    },
    {
      "cell_type": "code",
      "execution_count": null,
      "metadata": {
        "_cell_guid": "7b9b5703-1e29-47f2-a1a9-2e0ba2db581f",
        "_execution_state": "idle",
        "_uuid": "8e20f5b53ce35391006b921cd79280cf3756d929",
        "id": "jZx4qEnqhWtK"
      },
      "outputs": [],
      "source": [
        "import copy\n",
        "import numpy as np\n",
        "import pandas as pd\n",
        "import seaborn as sns\n",
        "import matplotlib.pyplot as plt\n",
        "sns.set_theme()\n",
        "\n",
        "import warnings\n",
        "warnings.filterwarnings(\"ignore\")"
      ]
    },
    {
      "cell_type": "code",
      "execution_count": null,
      "metadata": {
        "_cell_guid": "22243ad2-790b-4e36-8cf5-01a30210b580",
        "_execution_state": "idle",
        "_uuid": "130c13cbd4d1fcde16644265f1e288158ad97fe7",
        "id": "1O0CE_rjhWtL"
      },
      "outputs": [],
      "source": [
        "young = pd.read_csv('https://raw.githubusercontent.com/anyoneai/notebooks/main/datasets/people_responses.csv')"
      ]
    },
    {
      "cell_type": "code",
      "execution_count": null,
      "metadata": {
        "_cell_guid": "f6c4f282-6184-4f64-a028-7a415e5815b6",
        "_execution_state": "idle",
        "_uuid": "6dd8dd30468941f0530a04ee7db7b3db0ea42269",
        "id": "orAYN2MihWtL",
        "outputId": "88627956-31e9-4556-8a6f-2989e747a481"
      },
      "outputs": [
        {
          "data": {
            "text/html": [
              "<div>\n",
              "<style scoped>\n",
              "    .dataframe tbody tr th:only-of-type {\n",
              "        vertical-align: middle;\n",
              "    }\n",
              "\n",
              "    .dataframe tbody tr th {\n",
              "        vertical-align: top;\n",
              "    }\n",
              "\n",
              "    .dataframe thead th {\n",
              "        text-align: right;\n",
              "    }\n",
              "</style>\n",
              "<table border=\"1\" class=\"dataframe\">\n",
              "  <thead>\n",
              "    <tr style=\"text-align: right;\">\n",
              "      <th></th>\n",
              "      <th>Music</th>\n",
              "      <th>Slow songs or fast songs</th>\n",
              "      <th>Dance</th>\n",
              "      <th>Folk</th>\n",
              "      <th>Country</th>\n",
              "      <th>Classical music</th>\n",
              "      <th>Musical</th>\n",
              "      <th>Pop</th>\n",
              "      <th>Rock</th>\n",
              "      <th>Metal or Hardrock</th>\n",
              "      <th>...</th>\n",
              "      <th>Age</th>\n",
              "      <th>Height</th>\n",
              "      <th>Weight</th>\n",
              "      <th>Number of siblings</th>\n",
              "      <th>Gender</th>\n",
              "      <th>Left - right handed</th>\n",
              "      <th>Education</th>\n",
              "      <th>Only child</th>\n",
              "      <th>Village - town</th>\n",
              "      <th>House - block of flats</th>\n",
              "    </tr>\n",
              "  </thead>\n",
              "  <tbody>\n",
              "    <tr>\n",
              "      <th>0</th>\n",
              "      <td>5.0</td>\n",
              "      <td>3.0</td>\n",
              "      <td>2.0</td>\n",
              "      <td>1.0</td>\n",
              "      <td>2.0</td>\n",
              "      <td>2.0</td>\n",
              "      <td>1.0</td>\n",
              "      <td>5.0</td>\n",
              "      <td>5.0</td>\n",
              "      <td>1.0</td>\n",
              "      <td>...</td>\n",
              "      <td>20.0</td>\n",
              "      <td>163.0</td>\n",
              "      <td>48.0</td>\n",
              "      <td>1.0</td>\n",
              "      <td>female</td>\n",
              "      <td>right handed</td>\n",
              "      <td>college/bachelor degree</td>\n",
              "      <td>no</td>\n",
              "      <td>village</td>\n",
              "      <td>block of flats</td>\n",
              "    </tr>\n",
              "    <tr>\n",
              "      <th>1</th>\n",
              "      <td>4.0</td>\n",
              "      <td>4.0</td>\n",
              "      <td>2.0</td>\n",
              "      <td>1.0</td>\n",
              "      <td>1.0</td>\n",
              "      <td>1.0</td>\n",
              "      <td>2.0</td>\n",
              "      <td>3.0</td>\n",
              "      <td>5.0</td>\n",
              "      <td>4.0</td>\n",
              "      <td>...</td>\n",
              "      <td>19.0</td>\n",
              "      <td>163.0</td>\n",
              "      <td>58.0</td>\n",
              "      <td>2.0</td>\n",
              "      <td>female</td>\n",
              "      <td>right handed</td>\n",
              "      <td>college/bachelor degree</td>\n",
              "      <td>no</td>\n",
              "      <td>city</td>\n",
              "      <td>block of flats</td>\n",
              "    </tr>\n",
              "    <tr>\n",
              "      <th>2</th>\n",
              "      <td>5.0</td>\n",
              "      <td>5.0</td>\n",
              "      <td>2.0</td>\n",
              "      <td>2.0</td>\n",
              "      <td>3.0</td>\n",
              "      <td>4.0</td>\n",
              "      <td>5.0</td>\n",
              "      <td>3.0</td>\n",
              "      <td>5.0</td>\n",
              "      <td>3.0</td>\n",
              "      <td>...</td>\n",
              "      <td>20.0</td>\n",
              "      <td>176.0</td>\n",
              "      <td>67.0</td>\n",
              "      <td>2.0</td>\n",
              "      <td>female</td>\n",
              "      <td>right handed</td>\n",
              "      <td>secondary school</td>\n",
              "      <td>no</td>\n",
              "      <td>city</td>\n",
              "      <td>block of flats</td>\n",
              "    </tr>\n",
              "    <tr>\n",
              "      <th>3</th>\n",
              "      <td>5.0</td>\n",
              "      <td>3.0</td>\n",
              "      <td>2.0</td>\n",
              "      <td>1.0</td>\n",
              "      <td>1.0</td>\n",
              "      <td>1.0</td>\n",
              "      <td>1.0</td>\n",
              "      <td>2.0</td>\n",
              "      <td>2.0</td>\n",
              "      <td>1.0</td>\n",
              "      <td>...</td>\n",
              "      <td>22.0</td>\n",
              "      <td>172.0</td>\n",
              "      <td>59.0</td>\n",
              "      <td>1.0</td>\n",
              "      <td>female</td>\n",
              "      <td>right handed</td>\n",
              "      <td>college/bachelor degree</td>\n",
              "      <td>yes</td>\n",
              "      <td>city</td>\n",
              "      <td>house/bungalow</td>\n",
              "    </tr>\n",
              "    <tr>\n",
              "      <th>4</th>\n",
              "      <td>5.0</td>\n",
              "      <td>3.0</td>\n",
              "      <td>4.0</td>\n",
              "      <td>3.0</td>\n",
              "      <td>2.0</td>\n",
              "      <td>4.0</td>\n",
              "      <td>3.0</td>\n",
              "      <td>5.0</td>\n",
              "      <td>3.0</td>\n",
              "      <td>1.0</td>\n",
              "      <td>...</td>\n",
              "      <td>20.0</td>\n",
              "      <td>170.0</td>\n",
              "      <td>59.0</td>\n",
              "      <td>1.0</td>\n",
              "      <td>female</td>\n",
              "      <td>right handed</td>\n",
              "      <td>secondary school</td>\n",
              "      <td>no</td>\n",
              "      <td>village</td>\n",
              "      <td>house/bungalow</td>\n",
              "    </tr>\n",
              "  </tbody>\n",
              "</table>\n",
              "<p>5 rows × 150 columns</p>\n",
              "</div>"
            ],
            "text/plain": [
              "   Music  Slow songs or fast songs  Dance  Folk  Country  Classical music  \\\n",
              "0    5.0                       3.0    2.0   1.0      2.0              2.0   \n",
              "1    4.0                       4.0    2.0   1.0      1.0              1.0   \n",
              "2    5.0                       5.0    2.0   2.0      3.0              4.0   \n",
              "3    5.0                       3.0    2.0   1.0      1.0              1.0   \n",
              "4    5.0                       3.0    4.0   3.0      2.0              4.0   \n",
              "\n",
              "   Musical  Pop  Rock  Metal or Hardrock  ...   Age  Height  Weight  \\\n",
              "0      1.0  5.0   5.0                1.0  ...  20.0   163.0    48.0   \n",
              "1      2.0  3.0   5.0                4.0  ...  19.0   163.0    58.0   \n",
              "2      5.0  3.0   5.0                3.0  ...  20.0   176.0    67.0   \n",
              "3      1.0  2.0   2.0                1.0  ...  22.0   172.0    59.0   \n",
              "4      3.0  5.0   3.0                1.0  ...  20.0   170.0    59.0   \n",
              "\n",
              "   Number of siblings  Gender  Left - right handed                Education  \\\n",
              "0                 1.0  female         right handed  college/bachelor degree   \n",
              "1                 2.0  female         right handed  college/bachelor degree   \n",
              "2                 2.0  female         right handed         secondary school   \n",
              "3                 1.0  female         right handed  college/bachelor degree   \n",
              "4                 1.0  female         right handed         secondary school   \n",
              "\n",
              "   Only child  Village - town  House - block of flats  \n",
              "0          no         village          block of flats  \n",
              "1          no            city          block of flats  \n",
              "2          no            city          block of flats  \n",
              "3         yes            city          house/bungalow  \n",
              "4          no         village          house/bungalow  \n",
              "\n",
              "[5 rows x 150 columns]"
            ]
          },
          "execution_count": 3,
          "metadata": {},
          "output_type": "execute_result"
        }
      ],
      "source": [
        "young.head(5)"
      ]
    },
    {
      "cell_type": "markdown",
      "metadata": {
        "id": "f6lxJaQFhWtM"
      },
      "source": [
        "*****\n",
        "## 1. Descriptive statistics"
      ]
    },
    {
      "cell_type": "code",
      "execution_count": null,
      "metadata": {
        "id": "bxlz4flohWtM"
      },
      "outputs": [],
      "source": [
        ""
      ]
    },
    {
      "cell_type": "markdown",
      "metadata": {
        "id": "lWsCc7p3hWtM"
      },
      "source": [
        "### Frequency Distribution by Age and Weight"
      ]
    },
    {
      "cell_type": "code",
      "execution_count": null,
      "metadata": {
        "id": "-L8RI24ehWtN"
      },
      "outputs": [],
      "source": [
        ""
      ]
    },
    {
      "cell_type": "markdown",
      "metadata": {
        "id": "xi8eBik4hWtN"
      },
      "source": [
        "### Histogram"
      ]
    },
    {
      "cell_type": "code",
      "execution_count": null,
      "metadata": {
        "id": "B6rLnzNkhWtN"
      },
      "outputs": [],
      "source": [
        ""
      ]
    },
    {
      "cell_type": "markdown",
      "metadata": {
        "id": "Ras2a8j3hWtN"
      },
      "source": [
        "### Missing values"
      ]
    },
    {
      "cell_type": "code",
      "execution_count": null,
      "metadata": {
        "id": "AzRYowcIhWtO"
      },
      "outputs": [],
      "source": [
        ""
      ]
    },
    {
      "cell_type": "markdown",
      "metadata": {
        "id": "ClNbs6NchWtO"
      },
      "source": [
        "### Outliers"
      ]
    },
    {
      "cell_type": "code",
      "execution_count": null,
      "metadata": {
        "id": "nCMpPktDhWtO"
      },
      "outputs": [],
      "source": [
        ""
      ]
    },
    {
      "cell_type": "markdown",
      "metadata": {
        "id": "YMoAtgPahWtO"
      },
      "source": [
        "### Gender breakdown"
      ]
    },
    {
      "cell_type": "code",
      "execution_count": null,
      "metadata": {
        "id": "-osd26WjhWtO"
      },
      "outputs": [],
      "source": [
        ""
      ]
    },
    {
      "cell_type": "markdown",
      "metadata": {
        "id": "k0WAliG2hWtP"
      },
      "source": [
        "### Correlation between variables"
      ]
    },
    {
      "cell_type": "code",
      "execution_count": null,
      "metadata": {
        "id": "aHPJq5jihWtP"
      },
      "outputs": [],
      "source": [
        ""
      ]
    },
    {
      "cell_type": "markdown",
      "metadata": {
        "id": "Y8XPkfU6hWtP"
      },
      "source": [
        "****\n",
        "## 2. Joint probability"
      ]
    },
    {
      "cell_type": "markdown",
      "metadata": {
        "id": "Z7Y7rotQhWtP"
      },
      "source": [
        "#### To do this we will define the concepts of marginal probability and joint probability\n",
        "\n",
        "Marginal Probability: Probability of one variable without considering another, for example:\n",
        "\n",
        "$$P_X=P[X=x]=\\sum_{\\forall y_i}p_{xy}(x,y_i)$$"
      ]
    },
    {
      "cell_type": "code",
      "execution_count": null,
      "metadata": {
        "id": "l4QqqNBqhWtP"
      },
      "outputs": [],
      "source": [
        ""
      ]
    },
    {
      "cell_type": "markdown",
      "metadata": {
        "id": "oehQSvZNhWtP"
      },
      "source": [
        "#### Joint Probability: In a bivariate or multimavariate sample space, each possible outcome refers to two or more characteristics. Then the probability of a joint outcome is denoted $P(X \\cap Y)$ and is defined as:\n",
        "\n",
        "$$P_{XY}=P[(X=x)\\cap(Y=y)]$$\n",
        "\n",
        "__TODO:__\n",
        "Do some research on [crosstab](https://pandas.pydata.org/docs/reference/api/pandas.crosstab.html) pandas function."
      ]
    },
    {
      "cell_type": "code",
      "execution_count": null,
      "metadata": {
        "id": "XlzufKM2hWtQ"
      },
      "outputs": [],
      "source": [
        ""
      ]
    },
    {
      "cell_type": "markdown",
      "metadata": {
        "id": "44Nc0gPWhWtQ"
      },
      "source": [
        "****\n",
        "## 3. Answers\n",
        "### Smoking levels and smoking bans in bars"
      ]
    },
    {
      "cell_type": "code",
      "execution_count": null,
      "metadata": {
        "id": "d-8oLRPZhWtQ"
      },
      "outputs": [],
      "source": [
        ""
      ]
    },
    {
      "cell_type": "markdown",
      "metadata": {
        "id": "Y7OreMYIhWtQ"
      },
      "source": [
        "****\n",
        "# Extras:"
      ]
    },
    {
      "cell_type": "markdown",
      "metadata": {
        "_cell_guid": "9cc06f7f-cea2-4d5a-baec-6be4f491c251",
        "_uuid": "19f7bf02a33ef1616a8b8e23001fcae8889d0d7a",
        "id": "_Ld0LwKihWtQ"
      },
      "source": [
        "## Other data visualizations"
      ]
    },
    {
      "cell_type": "markdown",
      "metadata": {
        "_cell_guid": "75ac7bcc-1cb7-4c97-9e15-a66db03a5553",
        "_uuid": "875061af6669258f6c504f8b1c5baefea83c1e56",
        "id": "JXb-lcRChWtQ"
      },
      "source": [
        "#### We choose some characteristics (numerical) and analyze them breaking down by gender using a box plot"
      ]
    },
    {
      "cell_type": "code",
      "execution_count": null,
      "metadata": {
        "id": "1cmNAqsAhWtQ"
      },
      "outputs": [],
      "source": [
        ""
      ]
    }
  ],
  "metadata": {
    "kernelspec": {
      "display_name": "Python 3 (ipykernel)",
      "language": "python",
      "name": "python3"
    },
    "language_info": {
      "codemirror_mode": {
        "name": "ipython",
        "version": 3
      },
      "file_extension": ".py",
      "mimetype": "text/x-python",
      "name": "python",
      "nbconvert_exporter": "python",
      "pygments_lexer": "ipython3",
      "version": "3.9.7"
    },
    "colab": {
      "name": "Practice_Intro_to_Probability_and_Statistics.ipynb",
      "provenance": [],
      "collapsed_sections": [],
      "include_colab_link": true
    }
  },
  "nbformat": 4,
  "nbformat_minor": 0
}